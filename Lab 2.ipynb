{
 "cells": [
  {
   "cell_type": "markdown",
   "id": "f2ad26f2-c125-4bad-b9aa-0d965874ba2a",
   "metadata": {},
   "source": [
    "## Задание 1\n",
    "\n",
    "Создайте массив NumPy размером 3×3, содержащий числа от 1 до 9. Умножьте все элементы массива на 2, а затем замените все элементы больше 10 на 0. Выведите итоговый массив"
   ]
  },
  {
   "cell_type": "code",
   "execution_count": 1,
   "id": "adb163aa-435a-463b-a4cf-c48c4cbe0492",
   "metadata": {},
   "outputs": [
    {
     "name": "stdout",
     "output_type": "stream",
     "text": [
      "Матрица с заменеными элементами  \n",
      " [[ 2  4  6]\n",
      " [ 8 10  0]\n",
      " [ 0  0  0]]\n"
     ]
    }
   ],
   "source": [
    "import numpy as np\n",
    "\n",
    "a = np.array([[1, 2, 3], [4, 5, 6], [7, 8, 9]])\n",
    "a = a*2\n",
    "a[a>10]=0\n",
    "\n",
    "print(\"Матрица с заменеными элементами \",'\\n',  a)"
   ]
  },
  {
   "cell_type": "markdown",
   "id": "580d5dcf-70cc-49d4-8260-b9fdd837f3d0",
   "metadata": {},
   "source": [
    "## Задание 2\n",
    "\n",
    "Создайте массив NumPy из 20 случайных целых чисел от 1 до 100. Найдите и выведите все элементы, которые делятся на 5 без остатка. Затем замените их на -1 и выведите обновленный массив"
   ]
  },
  {
   "cell_type": "code",
   "execution_count": 3,
   "id": "decc8392-bbdb-4faf-9104-33b5e8beab1c",
   "metadata": {},
   "outputs": [
    {
     "name": "stdout",
     "output_type": "stream",
     "text": [
      "[94 34 20 40 46 54 71 22 47 32 10 53  8 95 26 63 45  4 46 57] \n",
      "\n",
      "Элеметы делящиеся нацело на пять [20 40 10 95 45] \n",
      "\n",
      "Массив с заменеными элементами [94 34 -1 -1 46 54 71 22 47 32 -1 53  8 -1 26 63 -1  4 46 57]\n"
     ]
    }
   ],
   "source": [
    "a = np.random.randint(1, 100, 20)\n",
    "print(a, '\\n')\n",
    "\n",
    "print(\"Элеметы делящиеся нацело на пять\", a[a%5==0], '\\n')\n",
    "\n",
    "a[a%5==0]=-1\n",
    "\n",
    "print(\"Массив с заменеными элементами\", a)"
   ]
  },
  {
   "cell_type": "markdown",
   "id": "9e2f3087-a1fa-4c98-95bc-9035bd70dd3d",
   "metadata": {},
   "source": [
    "## Задание 3\n",
    "\n",
    "Создайте два массива NumPy размером 1×5, заполненные случайными числами от 0 до 50. Выведите все промежуточные и итоговые результаты."
   ]
  },
  {
   "cell_type": "code",
   "execution_count": 4,
   "id": "f6ee2ef8-9635-4dec-bb14-540b27c38aca",
   "metadata": {},
   "outputs": [
    {
     "name": "stdout",
     "output_type": "stream",
     "text": [
      "[[40 40 12 49 39]]\n",
      "[[ 6 18 28 22 47]]\n",
      "\n",
      "[[40 40 12 49 39]\n",
      " [ 6 18 28 22 47]]\n",
      "\n",
      "[40 40 12 49 39]\n",
      "[ 6 18 28 22 47]\n"
     ]
    }
   ],
   "source": [
    "a = np.random.randint(0, 50, size = (1, 5))\n",
    "a1 = np.random.randint(0, 50, size = (1, 5))\n",
    "\n",
    "result = np.vstack((a, a1))\n",
    "\n",
    "b = result[0, :]\n",
    "b1 = result[1, :]\n",
    "print(a)\n",
    "print(a1)\n",
    "print()\n",
    "print(result)\n",
    "print()\n",
    "print(b)\n",
    "print(b1)"
   ]
  },
  {
   "cell_type": "markdown",
   "id": "b16044f3-c5f0-411a-921a-070685e5fc34",
   "metadata": {},
   "source": [
    "## Задание 4\n",
    "\n",
    "Создайте массив из 50 чисел, равномерно распределенных от -10 до 10. Вычислите сумму всех элементов, сумму положительных элементов и сумму отрицательных элементов. Выведите результаты"
   ]
  },
  {
   "cell_type": "code",
   "execution_count": 5,
   "id": "10db6585-d68a-4e0e-94db-41a393d06c58",
   "metadata": {},
   "outputs": [
    {
     "name": "stdout",
     "output_type": "stream",
     "text": [
      "[ 2.29571102 -0.81210102 -0.42407866 -2.7155144   7.78303828  8.53979838\n",
      "  9.38366683 -9.50694291 -0.01000901 -6.1592218  -9.65080495 -7.63011895\n",
      "  1.34523391 -3.49778835  2.99694183  6.95866242 -9.60607233 -3.06220601\n",
      " -8.0810375  -7.15999822  9.04077963 -2.75859113 -4.26907829 -8.1857228\n",
      "  4.35084963  9.08797259  5.14833299  0.3601734  -0.02290114 -4.02409132\n",
      "  6.81357048 -9.56667674  3.44175237  7.15175532 -9.76533789 -1.73618589\n",
      "  3.04204558 -6.37448979  1.83413357 -7.87801377  3.03238886  5.78518253\n",
      " -9.50532106 -1.20225521 -6.20207766  0.35942232 -5.09280209 -4.31350816\n",
      "  5.49707544 -0.60715742] \n",
      "\n",
      "Сумма =  -45.57161708653687\n",
      "Сумма положительных =  104.24848737283854\n",
      "Сумма отрицательных =  -149.82010445937541\n"
     ]
    }
   ],
   "source": [
    "mas = np.random.uniform(-10, 10, 50)\n",
    "print(mas, '\\n')\n",
    "\n",
    "summ=sum(mas)\n",
    "sum_poz = sum(mas[mas>0])\n",
    "sum_neg = sum(mas[mas<0]) \n",
    "\n",
    "print('Сумма = ', summ)\n",
    "print('Сумма положительных = ', sum_poz)\n",
    "print('Сумма отрицательных = ', sum_neg)"
   ]
  },
  {
   "cell_type": "markdown",
   "id": "44c88638-4e0e-4ff3-994e-9fd96672cc19",
   "metadata": {},
   "source": [
    "## Задание 5\n",
    "\n",
    "Создайте: Единичную матрицу размером 4×4. Диагональную матрицу размером 4×4 с диагональными элементами [5, 10, 15, 20] (не использовать циклы). Найдите сумму всех элементов каждой из этих матриц и сравните результаты."
   ]
  },
  {
   "cell_type": "code",
   "execution_count": 6,
   "id": "66800fb8-15e3-41ee-bc6f-9e3d7fa053de",
   "metadata": {},
   "outputs": [
    {
     "name": "stdout",
     "output_type": "stream",
     "text": [
      "Суммма  элементов матрицы a =  4.0\n",
      "Суммма элементов мтарицы а1 =  50\n"
     ]
    }
   ],
   "source": [
    "a = np.eye(4)\n",
    "m = [5, 10, 15, 20]\n",
    "m_diag = np.diag(m)\n",
    "a1 = np.array(m_diag)\n",
    "\n",
    "sum_el_a = np.sum(a)\n",
    "sum_el_a1 = np.sum(a1)\n",
    "\n",
    "print('Суммма  элементов матрицы a = ',sum_el_a) \n",
    "print('Суммма элементов мтарицы а1 = ', sum_el_a1)"
   ]
  },
  {
   "cell_type": "markdown",
   "id": "2de727f9-93a9-4c3a-ba20-c676301a88fc",
   "metadata": {},
   "source": [
    "## Задание 6\n",
    "\n",
    "Создайте две квадратные матрицы NumPy размером 3×3, заполненные случайными целыми числами от 1 до 20. Вычислите и выведите: Их сумму Их разность Их поэлементное произведение"
   ]
  },
  {
   "cell_type": "code",
   "execution_count": 7,
   "id": "bb6f86df-7af4-4453-b384-7dceea14e915",
   "metadata": {},
   "outputs": [
    {
     "name": "stdout",
     "output_type": "stream",
     "text": [
      "Сумма матриц \n",
      " [[20 34 16]\n",
      " [19 25 35]\n",
      " [17  2 19]] \n",
      "\n",
      "Разность матриц  \n",
      " [[ 0  0 -4]\n",
      " [-9 -9 -3]\n",
      " [ 5  0 -7]] \n",
      "\n",
      "Поэлементое произведение \n",
      " [[100 289  60]\n",
      " [ 70 136 304]\n",
      " [ 66   1  78]] \n",
      "\n"
     ]
    }
   ],
   "source": [
    "a = np.random.randint(1, 20, size=(3, 3))  \n",
    "a1 = np.random.randint(1, 20, size=(3, 3))  \n",
    "\n",
    "print('Сумма матриц',\"\\n\",  a + a1, \"\\n\")  \n",
    "print('Разность матриц ', \"\\n\", a - a1, \"\\n\")  \n",
    "print('Поэлементое произведение',\"\\n\",  a * a1, \"\\n\")"
   ]
  },
  {
   "cell_type": "markdown",
   "id": "56422783-ad61-4dd5-8e8c-be2cf3abe228",
   "metadata": {},
   "source": [
    "## Задание 7\n",
    "\n",
    "Создайте две матрицы NumPy: Первую размером 2×3, заполненную случайными числами от 1 до 10. Вторую размером 3×2, заполненную случайными числами от 1 до 10. Выполните матричное умножение (используя оператор @ или функцию np.dot) и выведите результат."
   ]
  },
  {
   "cell_type": "code",
   "execution_count": 8,
   "id": "6dd0c1e4-2502-485c-ae5b-196356b0be21",
   "metadata": {},
   "outputs": [
    {
     "name": "stdout",
     "output_type": "stream",
     "text": [
      "[[8 8 2]\n",
      " [4 9 3]] \n",
      "\n",
      "[[1 5]\n",
      " [8 3]\n",
      " [4 4]] \n",
      "\n",
      "[[80 72]\n",
      " [88 59]]\n"
     ]
    }
   ],
   "source": [
    "matrix1 = np.random.randint(1, 10, size = (2, 3))\n",
    "matrix2 = np.random.randint(1, 10, size = (3, 2))\n",
    "\n",
    "print(matrix1,'\\n')\n",
    "print(matrix2, '\\n')\n",
    "print(np.dot(matrix1, matrix2))"
   ]
  },
  {
   "cell_type": "markdown",
   "id": "afac4a5a-c339-4dc5-9122-090351a34913",
   "metadata": {},
   "source": [
    "## Задание 8\n",
    "\n",
    "Создайте случайную квадратную матрицу 3×3. Найдите и выведите: Определитель этой матрицы (используйте np.linalg.det). Обратную матрицу (используйте np.linalg.inv). Если матрица вырождена (определитель равен 0), выведите сообщение, что матрица вырождена."
   ]
  },
  {
   "cell_type": "code",
   "execution_count": 10,
   "id": "19391d8f-c31b-4b36-9ce0-c1850ea28b58",
   "metadata": {},
   "outputs": [
    {
     "name": "stdout",
     "output_type": "stream",
     "text": [
      "Определитель =  9.999999999999993\n",
      "Oбратная матица  \n",
      " [[  5.    1.5  -8. ]\n",
      " [ 10.8   3.5 -17.6]\n",
      " [ -8.   -2.5  13. ]]\n"
     ]
    }
   ],
   "source": [
    "matrix = np.random.randint(1, 20, size=(3, 3))\n",
    "det = np.linalg.det(matrix)\n",
    "\n",
    "if det == 0:\n",
    "    print(\"матрица вырождена\")\n",
    "\n",
    "inv = np.linalg.inv(matrix)\n",
    "print('Определитель = ', det)\n",
    "print('Oбратная матица ','\\n', inv)"
   ]
  },
  {
   "cell_type": "markdown",
   "id": "e65c91fc-a78e-4727-9de3-15ab941f2658",
   "metadata": {},
   "source": [
    "## Задание 9\n",
    "\n",
    "Создайте матрицу NumPy размером 4×4, содержащую случайные целые числа от 1 до 50. Выведите: Исходную матрицу Транспонированную матрицу След матрицы (сумму элементов на главной диагонали) Используйте np.trace для нахождения следа."
   ]
  },
  {
   "cell_type": "code",
   "execution_count": 11,
   "id": "acc060ca-edf6-4722-85f5-ec5ce97fa52c",
   "metadata": {},
   "outputs": [
    {
     "name": "stdout",
     "output_type": "stream",
     "text": [
      "[[17  9 48  7]\n",
      " [40 42 45 18]\n",
      " [26 15 31 10]\n",
      " [24 37 45 33]] \n",
      "\n",
      "Транспонированная матрица \n",
      " [[17 40 26 24]\n",
      " [ 9 42 15 37]\n",
      " [48 45 31 45]\n",
      " [ 7 18 10 33]] \n",
      "\n",
      "След =  123\n"
     ]
    }
   ],
   "source": [
    "matrix = np.random.randint(1, 50, size = (4,4))\n",
    "trace = np.trace(matrix)\n",
    "\n",
    "print(matrix, '\\n')\n",
    "print('Транспонированная матрица', '\\n', np.transpose(matrix), '\\n')\n",
    "print('След = ', trace)"
   ]
  },
  {
   "cell_type": "markdown",
   "id": "0a969220-c6c5-4f8d-9e4b-cf767ce0fec3",
   "metadata": {},
   "source": [
    "## Задание 10\n",
    "\n",
    "Решите систему линейных уравнений вида:\n",
    "\n",
    "$$\n",
    "\\begin{cases} \n",
    "2x + 3y - z = 5, \\\\ \n",
    "4x - y + 2z = 6, \\\\ \n",
    "-3x + 5y + 4z = -2. \n",
    "\\end{cases}\n",
    "$$\n",
    "\n",
    "Используйте матричное представление Ax = B , где A – матрица коэффициентов, x – вектор неизвестных, B – вектор правой части. Решите систему с помощью np.linalg.solve и выведите результат"
   ]
  },
  {
   "cell_type": "code",
   "execution_count": 12,
   "id": "d336bb92-d9e4-4996-a2b5-02e74592b5cc",
   "metadata": {},
   "outputs": [
    {
     "name": "stdout",
     "output_type": "stream",
     "text": [
      "[1.63963964 0.57657658 0.00900901]\n"
     ]
    }
   ],
   "source": [
    "A = np.array([[2, 3, -1], [4, -1, 2], [-3, 5, 4]])\n",
    "B = [5, 6, -2]\n",
    "\n",
    "solution = np.linalg.solve(A, B)\n",
    "\n",
    "print(solution)"
   ]
  },
  {
   "cell_type": "markdown",
   "id": "39ebec85-4c4b-4767-8e3e-20927c4f990f",
   "metadata": {},
   "source": [
    "## Решите индивидуальное задание согласно вашему варианту (16).\n",
    "\n",
    "**Производственный процесс.** Три машины изготавливают детали. Первая\n",
    "производит 5 деталей в минуту, вторая — 8, третья — 12. Завод должен\n",
    "произвести 1000 деталей за минимальное время. Сколько времени должна\n",
    "работать каждая машина, если первая должна проработать в два раза дольше,\n",
    "чем вторая?\n",
    "Мы получем уравнение по времени такого вида:\n",
    "$$\n",
    "\\begin{cases} \n",
    "5t_1+8t_2+12t_3=1000, \\\\ \n",
    "t_1-2t_2=0, \\\\ \n",
    "t_1-t_3=0. \n",
    "\\end{cases}\n",
    "$$"
   ]
  },
  {
   "cell_type": "code",
   "execution_count": 13,
   "id": "a8d01678-25e0-43f4-b38d-f4d58019dfdb",
   "metadata": {},
   "outputs": [
    {
     "name": "stdout",
     "output_type": "stream",
     "text": [
      "Результаты решения системы:\n",
      "Метод Крамера: t1=47.6, t2=23.8, t3=47.6\n",
      "Матричный метод: t1=47.6, t2=23.8, t3=47.6\n",
      "np.linalg.solve: t1=47.6, t2=23.8, t3=47.6\n",
      "\n",
      "Все методы дали одинаковые результаты\n"
     ]
    }
   ],
   "source": [
    "import numpy as np\n",
    "\n",
    "coeff_matrix = np.array([\n",
    "    [5, 8, 12],\n",
    "    [1, -2, 0],\n",
    "    [1, 0, -1]\n",
    "])\n",
    "\n",
    "right_parts = np.array([1000, 0, 0])\n",
    "\n",
    "def solve_cramer(A, B):\n",
    "    main_det = np.linalg.det(A)\n",
    "    if main_det == 0:\n",
    "        return None\n",
    "    \n",
    "    solutions = []\n",
    "    for i in range(len(B)):\n",
    "        temp_matrix = A.copy()\n",
    "        temp_matrix[:, i] = B\n",
    "        solutions.append(np.linalg.det(temp_matrix) / main_det)\n",
    "    \n",
    "    return np.array(solutions)\n",
    "\n",
    "def solve_matrix_inverse(A, B):\n",
    "    try:\n",
    "        A_inverse = np.linalg.inv(A)\n",
    "        return A_inverse.dot(B)\n",
    "    except:\n",
    "        return None\n",
    "\n",
    "def solve_numpy(A, B):\n",
    "    try:\n",
    "        return np.linalg.solve(A, B)\n",
    "    except:\n",
    "        return None\n",
    "\n",
    "solution_cramer = solve_cramer(coeff_matrix, right_parts)\n",
    "solution_inverse = solve_matrix_inverse(coeff_matrix, right_parts)\n",
    "solution_numpy = solve_numpy(coeff_matrix, right_parts)\n",
    "\n",
    "print(\"Результаты решения системы:\")\n",
    "print(f\"Метод Крамера: t1={solution_cramer[0]:.1f}, t2={solution_cramer[1]:.1f}, t3={solution_cramer[2]:.1f}\")\n",
    "print(f\"Матричный метод: t1={solution_inverse[0]:.1f}, t2={solution_inverse[1]:.1f}, t3={solution_inverse[2]:.1f}\")\n",
    "print(f\"np.linalg.solve: t1={solution_numpy[0]:.1f}, t2={solution_numpy[1]:.1f}, t3={solution_numpy[2]:.1f}\")\n",
    "\n",
    "if np.allclose(solution_cramer, solution_inverse) and np.allclose(solution_inverse, solution_numpy):\n",
    "    print(\"\\nВсе методы дали одинаковые результаты\")\n",
    "else:\n",
    "    print(\"\\nРезультаты методов различаются\")"
   ]
  }
 ],
 "metadata": {
  "kernelspec": {
   "display_name": "Python 3 (ipykernel)",
   "language": "python",
   "name": "python3"
  },
  "language_info": {
   "codemirror_mode": {
    "name": "ipython",
    "version": 3
   },
   "file_extension": ".py",
   "mimetype": "text/x-python",
   "name": "python",
   "nbconvert_exporter": "python",
   "pygments_lexer": "ipython3",
   "version": "3.12.7"
  }
 },
 "nbformat": 4,
 "nbformat_minor": 5
}
